{
 "cells": [
  {
   "cell_type": "code",
   "execution_count": 1,
   "metadata": {},
   "outputs": [
    {
     "name": "stdout",
     "output_type": "stream",
     "text": [
      "Populating the interactive namespace from numpy and matplotlib\n"
     ]
    }
   ],
   "source": [
    "import re\n",
    "import numpy as np\n",
    "import pandas as pd\n",
    "from scipy.spatial import distance\n",
    "from utils import plot_function, word_amount\n",
    "%pylab inline"
   ]
  },
  {
   "cell_type": "code",
   "execution_count": 2,
   "metadata": {},
   "outputs": [
    {
     "name": "stdout",
     "output_type": "stream",
     "text": [
      "total 27\n",
      "-rw-r--r-- 1 artem 197609 2856 Jun 16 13:11 Cat.txt\n",
      "-rw-r--r-- 1 artem 197609  138 Jun 16 17:07 Description.txt\n",
      "-rw-r--r-- 1 artem 197609 9515 Jun 16 18:39 Task_solution.ipynb\n",
      "-rw-r--r-- 1 artem 197609    3 Jun 16 18:38 result1.txt\n",
      "-rw-r--r-- 1 artem 197609   20 Jun 16 18:26 result2.txt\n",
      "-rw-r--r-- 1 artem 197609  858 Jun 16 18:38 utils.py\n",
      "-rw-r--r-- 1 artem 197609 1158 Jun 16 18:38 utils.pyc\n"
     ]
    }
   ],
   "source": [
    "%%bash\n",
    "ls -l"
   ]
  },
  {
   "cell_type": "markdown",
   "metadata": {},
   "source": [
    "# TASK 1"
   ]
  },
  {
   "cell_type": "code",
   "execution_count": 3,
   "metadata": {},
   "outputs": [],
   "source": [
    "FILE_NAME = 'Cat.txt'\n",
    "RESULT_FILE1 = \"result1.txt\"\n",
    "RESULT_FILE2 = \"result2.txt\""
   ]
  },
  {
   "cell_type": "code",
   "execution_count": 4,
   "metadata": {},
   "outputs": [],
   "source": [
    "def file_read(file_name):\n",
    "    \"\"\"Read text from file with filename.\n",
    "\n",
    "    Args:\n",
    "        file_name (str)\n",
    "\n",
    "    Returns\n",
    "    --------\n",
    "        file_info (list): list with stripped sentences.\n",
    "\n",
    "    \"\"\"\n",
    "    with open(FILE_NAME, 'r') as file_object:\n",
    "        file_info = file_object.read().splitlines()\n",
    "    return file_info"
   ]
  },
  {
   "cell_type": "markdown",
   "metadata": {},
   "source": [
    "## 2"
   ]
  },
  {
   "cell_type": "code",
   "execution_count": 5,
   "metadata": {},
   "outputs": [],
   "source": [
    "file_info = file_read(FILE_NAME)\n",
    "file_text = map(str.lower, file_info)\n",
    "sentence_amount = len(file_text)"
   ]
  },
  {
   "cell_type": "markdown",
   "metadata": {},
   "source": [
    "## 3"
   ]
  },
  {
   "cell_type": "code",
   "execution_count": 6,
   "metadata": {},
   "outputs": [],
   "source": [
    "words_lists = [filter(bool, re.split('[^a-z]', i)) for i in file_text]\n",
    "words = [word for word_list in words_lists for word in word_list]"
   ]
  },
  {
   "cell_type": "markdown",
   "metadata": {},
   "source": [
    "## 4"
   ]
  },
  {
   "cell_type": "code",
   "execution_count": 7,
   "metadata": {},
   "outputs": [],
   "source": [
    "word_statistic = []\n",
    "for sentence in words_lists:\n",
    "    word_statistic.append(word_amount(sentence))"
   ]
  },
  {
   "cell_type": "markdown",
   "metadata": {},
   "source": [
    "## 5"
   ]
  },
  {
   "cell_type": "code",
   "execution_count": 8,
   "metadata": {},
   "outputs": [
    {
     "name": "stderr",
     "output_type": "stream",
     "text": [
      "C:\\Users\\artem\\AppData\\Local\\conda\\conda\\envs\\Python2\\lib\\site-packages\\ipykernel_launcher.py:5: DeprecationWarning: \n",
      ".ix is deprecated. Please use\n",
      ".loc for label based indexing or\n",
      ".iloc for positional indexing\n",
      "\n",
      "See the documentation here:\n",
      "http://pandas.pydata.org/pandas-docs/stable/indexing.html#ix-indexer-is-deprecated\n",
      "  \"\"\"\n"
     ]
    }
   ],
   "source": [
    "dataframe = pd.DataFrame(0, index = range(sentence_amount), columns=set(words))\n",
    "count = 0\n",
    "for sentence in word_statistic:\n",
    "    for word in sentence:\n",
    "        dataframe.ix[count, word] += 1\n",
    "    count += 1"
   ]
  },
  {
   "cell_type": "markdown",
   "metadata": {},
   "source": [
    "## 6"
   ]
  },
  {
   "cell_type": "code",
   "execution_count": 9,
   "metadata": {},
   "outputs": [],
   "source": [
    "length = []\n",
    "for idx in dataframe.index:\n",
    "    length.append((idx, distance.cosine(dataframe.iloc[0], dataframe.iloc[idx])))"
   ]
  },
  {
   "cell_type": "code",
   "execution_count": 10,
   "metadata": {},
   "outputs": [],
   "source": [
    "closest_distance = sorted(length, key=lambda tup: tup[1])[1: 3]\n",
    "with open(RESULT_FILE1, \"w\") as result:\n",
    "    result.write(str(closest_distance[0][0]) + \" \" + str(closest_distance[1][0]))"
   ]
  },
  {
   "cell_type": "markdown",
   "metadata": {},
   "source": [
    "# TASK 2\n",
    "\n",
    "$f(x) = sin(\\frac{x}{5}) * exp(\\frac{x}{10}) + 5 * exp(-\\frac{x}{2})$"
   ]
  },
  {
   "cell_type": "code",
   "execution_count": 11,
   "metadata": {},
   "outputs": [],
   "source": [
    "def f(x):\n",
    "    \"\"\"Function for optimization.\n",
    "\n",
    "    Args:\n",
    "        x (ndarray).\n",
    "\n",
    "    \"\"\"\n",
    "    return np.sin(x/5.0) * np.exp(x / 10.0) + 5.0 * np.exp(-x/2.0)"
   ]
  },
  {
   "cell_type": "code",
   "execution_count": 12,
   "metadata": {},
   "outputs": [],
   "source": [
    "X_OVERALL = np.arange(1.0, 15.0, 0.1)\n",
    "Y_OVERALL = f(X_OVERALL)\n",
    "DIM = 4\n",
    "X = np.array([1.0, 4.0, 10.0, 15.0], dtype=np.float32)"
   ]
  },
  {
   "cell_type": "code",
   "execution_count": 13,
   "metadata": {},
   "outputs": [],
   "source": [
    "X_MATRIX = np.array([X**i for i in range(4)])\n",
    "y = [f(i) for i in X]\n",
    "w = np.linalg.solve(X_MATRIX.T, y)"
   ]
  },
  {
   "cell_type": "code",
   "execution_count": 14,
   "metadata": {},
   "outputs": [
    {
     "data": {
      "image/png": "[encoded data removed]",
      "text/plain": [
       "<Figure size 720x432 with 1 Axes>"
      ]
     },
     "metadata": {},
     "output_type": "display_data"
    }
   ],
   "source": [
    "y_pred = X_MATRIX.T.dot(w)\n",
    "plot_function(X_OVERALL, X, Y_OVERALL, y_pred)"
   ]
  },
  {
   "cell_type": "code",
   "execution_count": 15,
   "metadata": {},
   "outputs": [],
   "source": [
    "w_round = map(lambda x: round(x, 2), w)\n",
    "coef_to_file = map(str, w_round)\n",
    "\n",
    "with open(RESULT_FILE2, \"w\") as result:\n",
    "    result.writelines(\" \".join(coef_to_file))"
   ]
  },
  {
   "cell_type": "code",
   "execution_count": null,
   "metadata": {},
   "outputs": [],
   "source": []
  }
 ],
 "metadata": {
  "kernelspec": {
   "display_name": "Python 2",
   "language": "python",
   "name": "python2"
  },
  "language_info": {
   "codemirror_mode": {
    "name": "ipython",
    "version": 2
   },
   "file_extension": ".py",
   "mimetype": "text/x-python",
   "name": "python",
   "nbconvert_exporter": "python",
   "pygments_lexer": "ipython2",
   "version": "2.7.15"
  }
 },
 "nbformat": 4,
 "nbformat_minor": 2
}
